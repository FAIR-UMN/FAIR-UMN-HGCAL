{
 "cells": [
  {
   "cell_type": "code",
   "execution_count": 1,
   "id": "touched-behavior",
   "metadata": {},
   "outputs": [],
   "source": [
    "import pickle\n",
    "import numpy as np\n",
    "from matplotlib import pyplot as plt\n",
    "\n",
    "from scipy import interpolate"
   ]
  },
  {
   "cell_type": "code",
   "execution_count": 38,
   "id": "statistical-layout",
   "metadata": {},
   "outputs": [
    {
     "data": {
      "text/plain": [
       "<scipy.interpolate._bsplines.BSpline at 0x2ad889fe1128>"
      ]
     },
     "execution_count": 38,
     "metadata": {},
     "output_type": "execute_result"
    }
   ],
   "source": [
    "interpolate.make_interp_spline(x=np.arange(0,30,1), y=np.average(np.array(training_loss).reshape(30,52), axis=1))"
   ]
  },
  {
   "cell_type": "code",
   "execution_count": 12,
   "id": "illegal-story",
   "metadata": {},
   "outputs": [],
   "source": [
    "summary_file = '../training/test_epochs_30_lr_0p01_bs_1e5/summary.pkl'"
   ]
  },
  {
   "cell_type": "code",
   "execution_count": 13,
   "id": "other-shoot",
   "metadata": {},
   "outputs": [],
   "source": [
    "with open(summary_file, 'rb') as f0:\n",
    "    trs = pickle.load(f0)"
   ]
  },
  {
   "cell_type": "code",
   "execution_count": 46,
   "id": "cross-philippines",
   "metadata": {},
   "outputs": [
    {
     "data": {
      "image/png": "[encoded data removed]",
      "text/plain": [
       "<Figure size 432x432 with 1 Axes>"
      ]
     },
     "metadata": {
      "needs_background": "light"
     },
     "output_type": "display_data"
    }
   ],
   "source": [
    "epochs = trs['epochs']\n",
    "training_loss = trs['train_loss']\n",
    "valid_loss = trs['valid_loss']\n",
    "\n",
    "T = np.average(np.array(training_loss).reshape(30,52), axis=1)\n",
    "dT = np.std(np.array(training_loss).reshape(30,52), axis=1)\n",
    "V = np.average(np.array(valid_loss).reshape(30,52), axis=1)\n",
    "dV = np.average(np.array(valid_loss).reshape(30,52), axis=1)\n",
    "E = np.arange(0,30,1)\n",
    "\n",
    "plt.figure(figsize=(6,6))\n",
    "plt.plot(E, T, label='Train', color='tab:red')\n",
    "plt.plot(E, V, label='Validation', color='tab:blue')\n",
    "plt.fill_between(E, T-dT, T+dT, color='tab:red', alpha=0.2)\n",
    "plt.fill_between(E, V-dV, V+dV, color='tab:blue', alpha=0.2)\n",
    "plt.xlabel('Epochs', fontsize=14)\n",
    "plt.ylabel('Loss', fontsize=14)\n",
    "plt.title('Loss vs Epoch')\n",
    "#plt.xscale('log')\n",
    "#plt.yscale('log')\n",
    "plt.xlim(0,10)\n",
    "plt.show()"
   ]
  },
  {
   "cell_type": "code",
   "execution_count": 47,
   "id": "interior-basket",
   "metadata": {},
   "outputs": [],
   "source": [
    "import torch"
   ]
  },
  {
   "cell_type": "code",
   "execution_count": null,
   "id": "undefined-wildlife",
   "metadata": {},
   "outputs": [],
   "source": [
    "torch.load()"
   ]
  }
 ],
 "metadata": {
  "kernelspec": {
   "display_name": "torch1.7",
   "language": "python",
   "name": "torch1.7"
  },
  "language_info": {
   "codemirror_mode": {
    "name": "ipython",
    "version": 3
   },
   "file_extension": ".py",
   "mimetype": "text/x-python",
   "name": "python",
   "nbconvert_exporter": "python",
   "pygments_lexer": "ipython3",
   "version": "3.7.0"
  }
 },
 "nbformat": 4,
 "nbformat_minor": 5
}
