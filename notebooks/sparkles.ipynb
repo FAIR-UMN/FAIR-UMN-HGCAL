{
 "cells": [
  {
   "cell_type": "code",
   "execution_count": 3,
   "id": "legal-couple",
   "metadata": {},
   "outputs": [],
   "source": [
    "import numpy as np\n",
    "import awkward as ak\n",
    "import h5py\n",
    "\n",
    "import matplotlib.pyplot as plt\n",
    "from matplotlib.patches import Patch\n",
    "from matplotlib.patches import RegularPolygon\n",
    "from matplotlib.colors import to_rgb, to_rgba\n",
    "\n",
    "import plotly as ply\n",
    "import plotly.io as pio\n",
    "import plotly.express as px\n",
    "import plotly.graph_objects as go\n",
    "import plotly.offline as pyoff\n",
    "pyoff.init_notebook_mode()"
   ]
  },
  {
   "cell_type": "markdown",
   "id": "73d6777a",
   "metadata": {},
   "source": [
    "### Define custom functions"
   ]
  },
  {
   "cell_type": "code",
   "execution_count": 26,
   "id": "256cc04f",
   "metadata": {},
   "outputs": [],
   "source": [
    "def get_unflattened_array(file, label='rechit_x'):\n",
    "    arr = np.asarray(file[label])\n",
    "    nhits = np.asarray(file['nhits'], dtype=int)\n",
    "    arr = ak.unflatten(arr, nhits)\n",
    "    return arr\n",
    "\n",
    "def set_custom_alpha(col_, alpha_):\n",
    "    rgb_ = to_rgba(col_)\n",
    "    return (col_[0], col_[1], col_[2], alpha_)\n",
    "\n",
    "def rgb2rgba(col_):\n",
    "    _ = []\n",
    "    for c in col_:\n",
    "        _.append(float(c)/255.0)\n",
    "    _.append(1.0)\n",
    "    return tuple(_)\n",
    "\n",
    "def getNcols(N=3, cmap_='plasma'):\n",
    "    cmap = plt.get_cmap(cmap_)\n",
    "    cols = cmap.colors\n",
    "    arr = []\n",
    "    for i in range(N):\n",
    "        arr.append(cols[int(256*float(i)/float(N))])\n",
    "    return arr"
   ]
  },
  {
   "cell_type": "markdown",
   "id": "a7c1a43c",
   "metadata": {},
   "source": [
    "Since the cells in the sensors are in form of hexagonal shape, first we build a hexagonal grid using the (x,y) coordinates in each of the layers. Then hexagonal shaped cells and color them according to the energy of each reconstructed hit."
   ]
  },
  {
   "cell_type": "code",
   "execution_count": 5,
   "id": "detected-smart",
   "metadata": {},
   "outputs": [],
   "source": [
    "def get_hexagon_vertices(center_, radius_, orientation_):\n",
    "    '''\n",
    "    orientation takes a set of 2 angle (theta, phi)\n",
    "    theta, phi: angles specifying the orientation of the \n",
    "    vector normal to the surface in spherical coordinates;\n",
    "    theta corrsponding to the roation about z-axis and\n",
    "    phi corresponding to the rotation x-y plane\n",
    "    default orientation: theta=0, phi=0\n",
    "    '''\n",
    "    vertices = []\n",
    "    vec = np.array([0, 1])\n",
    "    \n",
    "    theta_ = orientation_[0]\n",
    "    phi_ = orientation_[1]\n",
    "    \n",
    "    '''\n",
    "    Add spherical roations and get the 3d vertices\n",
    "    '''\n",
    "    vertices_3d = []\n",
    "    for ivert in range(6):\n",
    "        vertex_phi_angle = ivert*np.pi/3\n",
    "        vertices_3d.append(np.array([radius_*np.cos(theta_)*np.cos(phi_+vertex_phi_angle),\n",
    "                                     radius_*np.cos(theta_)*np.sin(phi_+vertex_phi_angle),\n",
    "                                     radius_*np.sin(theta_)]))\n",
    "    \n",
    "    return [ translate_vector(v, center_) for v in vertices_3d ]\n",
    "\n",
    "def get_hexagonal_grid(center_, radius_, N):\n",
    "    \n",
    "    zarray = []\n",
    "    \n",
    "    xmin = -np.sqrt(3)*radius_\n",
    "    xmax = +np.sqrt(3)*radius_\n",
    "    ymin = -np.sqrt(3)*radius_\n",
    "    ymax = +np.sqrt(3)*radius_\n",
    "    \n",
    "    X = np.linspace(xmin, xmax, N)\n",
    "    Y = np.linspace(ymin, ymax, N)\n",
    "    \n",
    "    for x_ in X:\n",
    "        for y_ in Y:\n",
    "            if (np.abs(y_)>(radius_*np.sqrt(3)*0.5)) \\\n",
    "            or (np.abs(y_)>np.sqrt(3)*(radius_-np.abs(x_))):\n",
    "                zarray.append(np.nan)\n",
    "            else: zarray.append(center_[2])\n",
    "    \n",
    "    return X+center_[0], Y+center_[1], zarray"
   ]
  },
  {
   "cell_type": "markdown",
   "id": "e9eea8ec",
   "metadata": {},
   "source": [
    "Note: The radius is only defined for visualization purpose. This does not correspond to the exact dimensions of the cell. "
   ]
  },
  {
   "cell_type": "code",
   "execution_count": 7,
   "id": "retired-efficiency",
   "metadata": {},
   "outputs": [],
   "source": [
    "radius = 0.5626"
   ]
  },
  {
   "cell_type": "markdown",
   "id": "937535ef",
   "metadata": {},
   "source": [
    "### Reading a file\n",
    "\n",
    "Open the file and read the reconstructed hits corresponding only to one event which you want to visualize. In this case, we chose eventNumber = 10."
   ]
  },
  {
   "cell_type": "code",
   "execution_count": 19,
   "id": "1c0605e1",
   "metadata": {},
   "outputs": [],
   "source": [
    "test_file_path = '../data/hgcal_electron_data_test.h5'\n",
    "h5arr = h5py.File(test_file_path, 'r')\n",
    "\n",
    "eventNumber = 10\n",
    "nhits = np.asarray(h5arr['nhits'])[eventNumber]\n",
    "hit_x = get_unflattened_array(h5arr, 'rechit_x')[eventNumber]\n",
    "hit_y = get_unflattened_array(h5arr, 'rechit_y')[eventNumber]\n",
    "hit_z = get_unflattened_array(h5arr, 'rechit_z')[eventNumber]\n",
    "layer_pos = np.unique(hit_z)"
   ]
  },
  {
   "cell_type": "code",
   "execution_count": 31,
   "id": "applied-shopper",
   "metadata": {},
   "outputs": [],
   "source": [
    "N=20\n",
    "\n",
    "X, Y, Z = get_hexagonal_grid([hit_x[4], hit_y[4], hit_z[4]], radius, N)\n",
    "max_e = max(hit_z)\n",
    "e_array = [ int(e*99./max_e) for e in hit_z if e>0.5 ]\n",
    "palette = getNcols(100)\n",
    "c_array = [ 'rgb({}, {}, {})'.format(palette[e][0], palette[e][1], palette[e][2]) for e in e_array]"
   ]
  },
  {
   "cell_type": "markdown",
   "id": "052cde50",
   "metadata": {},
   "source": [
    "### Make a 3D using plotly package"
   ]
  },
  {
   "cell_type": "code",
   "execution_count": 40,
   "id": "funky-seventh",
   "metadata": {
    "scrolled": false
   },
   "outputs": [
    {
     "data": {
      "text/html": [
       "<iframe\n",
       "    scrolling=\"no\"\n",
       "    width=\"1044px\"\n",
       "    height=\"1044\"\n",
       "    src=\"iframe_figures/figure_40.html\"\n",
       "    frameborder=\"0\"\n",
       "    allowfullscreen\n",
       "></iframe>\n"
      ]
     },
     "metadata": {},
     "output_type": "display_data"
    }
   ],
   "source": [
    "layout = go.Layout(\n",
    "    width=1024,\n",
    "    height=1024,\n",
    "    scene=dict(camera=dict(eye=dict(x=1.15, y=1.15, z=0.8)), #the default values are 1.25, 1.25, 1.25\n",
    "           xaxis=dict(range=(-10, 10),\n",
    "                     showgrid=False,\n",
    "                     zeroline=False,\n",
    "                     showline=False),\n",
    "           yaxis=dict(range=(-10, 10)),\n",
    "           zaxis=dict(range=(0, 60)),\n",
    "           aspectmode='data', #this string can be 'data', 'cube', 'auto', 'manual'\n",
    "           #a custom aspectratio is defined as follows:\n",
    "           #aspectratio=dict(x=1, y=1, z=5.0)\n",
    "           )\n",
    ")\n",
    "\n",
    "fig = go.Figure(layout=layout)\n",
    "\n",
    "for ihit in range(len(hit_x)):\n",
    "    X, Y, Z = get_hexagonal_grid([hit_x[ihit], hit_y[ihit], hit_z[ihit]], radius, N)\n",
    "    surf  = go.Surface(x=X,\n",
    "                   y=Y,\n",
    "                   z=np.array(Z).reshape((N, N)),\n",
    "                   colorscale=[[0, c_array[ihit]], [1, c_array[ihit]]],\n",
    "                   showscale=False,\n",
    "                   opacity=0.5)\n",
    "    fig.add_trace(surf)\n",
    "\n",
    "for layer_ in layer_pos:\n",
    "    surf  = go.Surface(x=np.linspace(-10, 10, N),\n",
    "                   y=np.linspace(-10, 10, N),\n",
    "                   z=np.ones((N, N))*layer_,\n",
    "                   colorscale=['black', 'black'],\n",
    "                   showscale=False,\n",
    "                   opacity=0.05)\n",
    "    fig.add_trace(surf)\n",
    "\n",
    "fig.show(renderer='iframe')"
   ]
  }
 ],
 "metadata": {
  "kernelspec": {
   "display_name": "fair_cpu",
   "language": "python",
   "name": "fair_cpu"
  },
  "language_info": {
   "codemirror_mode": {
    "name": "ipython",
    "version": 3
   },
   "file_extension": ".py",
   "mimetype": "text/x-python",
   "name": "python",
   "nbconvert_exporter": "python",
   "pygments_lexer": "ipython3",
   "version": "3.6.15"
  },
  "vscode": {
   "interpreter": {
    "hash": "0ecd8fadeae8fc756c3534389d6113becccf3e630d35dcfbb3c89e54f67d04ed"
   }
  }
 },
 "nbformat": 4,
 "nbformat_minor": 5
}
