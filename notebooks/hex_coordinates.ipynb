{
 "cells": [
  {
   "cell_type": "code",
   "execution_count": 1,
   "id": "handmade-conversion",
   "metadata": {},
   "outputs": [],
   "source": [
    "# convert the hexagonal grid to square images"
   ]
  },
  {
   "cell_type": "code",
   "execution_count": 1,
   "id": "piano-invitation",
   "metadata": {},
   "outputs": [],
   "source": [
    "import h5py\n",
    "import numpy as np\n",
    "from matplotlib import pyplot as plt\n",
    "import awkward as ak"
   ]
  },
  {
   "cell_type": "code",
   "execution_count": 165,
   "id": "digital-vampire",
   "metadata": {},
   "outputs": [],
   "source": [
    "from matplotlib.patches import Patch\n",
    "from matplotlib.patches import RegularPolygon"
   ]
  },
  {
   "cell_type": "code",
   "execution_count": 292,
   "id": "orange-doubt",
   "metadata": {},
   "outputs": [],
   "source": [
    "def getNcols(N=3, cmap_='plasma'):\n",
    "    cmap = plt.get_cmap(cmap_)\n",
    "    cols = cmap.colors\n",
    "    arr = []\n",
    "    for i in range(N):\n",
    "        arr.append(cols[int(256*float(i)/float(N))])\n",
    "    return arr"
   ]
  },
  {
   "cell_type": "code",
   "execution_count": 2,
   "id": "noticed-travel",
   "metadata": {},
   "outputs": [],
   "source": [
    "input_file = \"/home/rusack/shared/hdf5/hgcal_electron/hgcal_electron_data_test.h5\"\n",
    "h5 = h5py.File(input_file)"
   ]
  },
  {
   "cell_type": "code",
   "execution_count": 426,
   "id": "improving-modification",
   "metadata": {},
   "outputs": [],
   "source": [
    "nhits = np.asarray(h5['nhits'], dtype=int)\n",
    "rechit_x = ak.unflatten(np.asarray(h5['rechit_x'], dtype='float32'), nhits)\n",
    "rechit_y = ak.unflatten(np.asarray(h5['rechit_y'], dtype='float32'), nhits)\n",
    "rechit_z = ak.unflatten(np.asarray(h5['rechit_z'], dtype='float32'), nhits)"
   ]
  },
  {
   "cell_type": "code",
   "execution_count": 421,
   "id": "cutting-improvement",
   "metadata": {},
   "outputs": [],
   "source": [
    "rechit_energy = ak.unflatten(np.asarray(h5['rechit_energy'], dtype='float32'), nhits)"
   ]
  },
  {
   "cell_type": "code",
   "execution_count": 85,
   "id": "marine-fence",
   "metadata": {},
   "outputs": [],
   "source": [
    "z_pos = np.unique(np.asarray(h5['rechit_z']))\n",
    "x_pos = np.unique(np.asarray(h5['rechit_x']))\n",
    "y_pos = np.unique(np.asarray(h5['rechit_y']))"
   ]
  },
  {
   "cell_type": "code",
   "execution_count": 5,
   "id": "unable-snake",
   "metadata": {},
   "outputs": [],
   "source": [
    "first_x = rechit_x[rechit_z==z_pos[0]]\n",
    "first_y = rechit_y[rechit_z==z_pos[0]]\n",
    "first_x_ticks = np.unique(np.asarray(ak.flatten(first_x)))\n",
    "first_y_ticks = np.unique(np.asarray(ak.flatten(first_y)))"
   ]
  },
  {
   "cell_type": "code",
   "execution_count": 233,
   "id": "gentle-syntax",
   "metadata": {},
   "outputs": [
    {
     "data": {
      "text/plain": [
       "array([0., 0., 0., ..., 0., 0., 0.])"
      ]
     },
     "execution_count": 233,
     "metadata": {},
     "output_type": "execute_result"
    }
   ],
   "source": [
    "(abs(h5['rechit_x']-x_pos[0])<1e-3)*1.0"
   ]
  },
  {
   "cell_type": "code",
   "execution_count": 124,
   "id": "selected-sequence",
   "metadata": {},
   "outputs": [],
   "source": [
    "dx = np.diff(x_pos)[0]\n",
    "dy = np.diff(y_pos)[0]"
   ]
  },
  {
   "cell_type": "code",
   "execution_count": 125,
   "id": "automotive-drunk",
   "metadata": {},
   "outputs": [],
   "source": [
    "d = np.sqrt(dy**2+dx**2)\n",
    "dx = dx/d\n",
    "dy = dy/d"
   ]
  },
  {
   "cell_type": "code",
   "execution_count": 138,
   "id": "found-strategy",
   "metadata": {},
   "outputs": [
    {
     "data": {
      "text/plain": [
       "3.1410831605302807"
      ]
     },
     "execution_count": 138,
     "metadata": {},
     "output_type": "execute_result"
    }
   ],
   "source": [
    "np.sqrt((3*(dx**2)-(dy**2))/2)"
   ]
  },
  {
   "cell_type": "code",
   "execution_count": 29,
   "id": "nervous-receipt",
   "metadata": {},
   "outputs": [],
   "source": [
    "xy = ak.zip((np.asarray(h5['rechit_x']), np.asarray(h5['rechit_y'])))\n",
    "grid = np.unique(np.asarray(xy))"
   ]
  },
  {
   "cell_type": "code",
   "execution_count": 244,
   "id": "previous-progress",
   "metadata": {},
   "outputs": [],
   "source": [
    "rechit_u = np.array(list(map(lambda x: 2*(x[\"0\"]/d)/sqtr, xy))).astype('float32')\n",
    "rechit_v = np.array(list(map(lambda x: (x[\"1\"]/d)-(x[\"0\"]/d)/sqtr, xy))).astype('float32')"
   ]
  },
  {
   "cell_type": "code",
   "execution_count": 245,
   "id": "agricultural-voltage",
   "metadata": {},
   "outputs": [
    {
     "data": {
      "text/plain": [
       "<Array [-1.94, 0, -1.94, ... -4.86, -3.89] type='1115 * float64'>"
      ]
     },
     "execution_count": 245,
     "metadata": {},
     "output_type": "execute_result"
    }
   ],
   "source": [
    "rechit_u = ak.unflatten(rechit_u, nhits)\n",
    "rechit_v = ak.unflatten(rechit_v, nhits)"
   ]
  },
  {
   "cell_type": "code",
   "execution_count": 436,
   "id": "worthy-quarterly",
   "metadata": {},
   "outputs": [
    {
     "data": {
      "text/plain": [
       "1.1220959888872364"
      ]
     },
     "execution_count": 436,
     "metadata": {},
     "output_type": "execute_result"
    }
   ],
   "source": [
    "d"
   ]
  },
  {
   "cell_type": "code",
   "execution_count": 253,
   "id": "modified-harvard",
   "metadata": {},
   "outputs": [],
   "source": [
    "A = [ rechit_u[0][rechit_z[0]==z_pos[l]] for l in range(len(z_pos)) ]\n",
    "B = [ rechit_v[0][rechit_z[0]==z_pos[l]] for l in range(len(z_pos)) ]\n",
    "E = [ rechit_energy[0][rechit_z[0]==z_pos[l]] for l in range(len(z_pos)) ]"
   ]
  },
  {
   "cell_type": "code",
   "execution_count": 273,
   "id": "revised-spare",
   "metadata": {},
   "outputs": [],
   "source": [
    "max([max(E[l]) for l in len(E)]"
   ]
  },
  {
   "cell_type": "code",
   "execution_count": 303,
   "id": "enormous-count",
   "metadata": {},
   "outputs": [],
   "source": [
    "colarray = getNcols(9)"
   ]
  },
  {
   "cell_type": "code",
   "execution_count": 328,
   "id": "objective-brazil",
   "metadata": {},
   "outputs": [],
   "source": [
    "rechit_cindex = np.floor(np.log(rechit_energy[0]))+1"
   ]
  },
  {
   "cell_type": "code",
   "execution_count": 329,
   "id": "smart-greenhouse",
   "metadata": {},
   "outputs": [],
   "source": [
    "sensor_density = [ rechit_cindex[rechit_z[0]==z_pos[l]] for l in range(len(z_pos)) ]"
   ]
  },
  {
   "cell_type": "code",
   "execution_count": 336,
   "id": "israeli-coating",
   "metadata": {},
   "outputs": [
    {
     "name": "stderr",
     "output_type": "stream",
     "text": [
      "/tmp/ipykernel_2905802/2828400260.py:12: UserWarning: Setting the 'color' property will override the edgecolor or facecolor properties.\n",
      "  hexagon = RegularPolygon((a[ic], b[ic]), numVertices=4, edgecolor='none',\n",
      "/tmp/ipykernel_2905802/2828400260.py:6: RuntimeWarning: More than 20 figures have been opened. Figures created through the pyplot interface (`matplotlib.pyplot.figure`) are retained until explicitly closed and may consume too much memory. (To control this warning, see the rcParam `figure.max_open_warning`).\n",
      "  fig, ax = plt.subplots(1)\n"
     ]
    },
    {
     "data": {
      "text/plain": [
       "<Figure size 640x480 with 0 Axes>"
      ]
     },
     "metadata": {},
     "output_type": "display_data"
    },
    {
     "data": {
      "text/plain": [
       "<Figure size 640x480 with 0 Axes>"
      ]
     },
     "metadata": {},
     "output_type": "display_data"
    },
    {
     "data": {
      "text/plain": [
       "<Figure size 640x480 with 0 Axes>"
      ]
     },
     "metadata": {},
     "output_type": "display_data"
    },
    {
     "data": {
      "text/plain": [
       "<Figure size 640x480 with 0 Axes>"
      ]
     },
     "metadata": {},
     "output_type": "display_data"
    },
    {
     "data": {
      "text/plain": [
       "<Figure size 640x480 with 0 Axes>"
      ]
     },
     "metadata": {},
     "output_type": "display_data"
    },
    {
     "data": {
      "text/plain": [
       "<Figure size 640x480 with 0 Axes>"
      ]
     },
     "metadata": {},
     "output_type": "display_data"
    },
    {
     "data": {
      "text/plain": [
       "<Figure size 640x480 with 0 Axes>"
      ]
     },
     "metadata": {},
     "output_type": "display_data"
    },
    {
     "data": {
      "text/plain": [
       "<Figure size 640x480 with 0 Axes>"
      ]
     },
     "metadata": {},
     "output_type": "display_data"
    },
    {
     "data": {
      "text/plain": [
       "<Figure size 640x480 with 0 Axes>"
      ]
     },
     "metadata": {},
     "output_type": "display_data"
    },
    {
     "data": {
      "text/plain": [
       "<Figure size 640x480 with 0 Axes>"
      ]
     },
     "metadata": {},
     "output_type": "display_data"
    },
    {
     "data": {
      "text/plain": [
       "<Figure size 640x480 with 0 Axes>"
      ]
     },
     "metadata": {},
     "output_type": "display_data"
    },
    {
     "data": {
      "text/plain": [
       "<Figure size 640x480 with 0 Axes>"
      ]
     },
     "metadata": {},
     "output_type": "display_data"
    },
    {
     "data": {
      "text/plain": [
       "<Figure size 640x480 with 0 Axes>"
      ]
     },
     "metadata": {},
     "output_type": "display_data"
    },
    {
     "data": {
      "text/plain": [
       "<Figure size 640x480 with 0 Axes>"
      ]
     },
     "metadata": {},
     "output_type": "display_data"
    },
    {
     "data": {
      "text/plain": [
       "<Figure size 640x480 with 0 Axes>"
      ]
     },
     "metadata": {},
     "output_type": "display_data"
    },
    {
     "data": {
      "text/plain": [
       "<Figure size 640x480 with 0 Axes>"
      ]
     },
     "metadata": {},
     "output_type": "display_data"
    },
    {
     "data": {
      "text/plain": [
       "<Figure size 640x480 with 0 Axes>"
      ]
     },
     "metadata": {},
     "output_type": "display_data"
    },
    {
     "data": {
      "text/plain": [
       "<Figure size 640x480 with 0 Axes>"
      ]
     },
     "metadata": {},
     "output_type": "display_data"
    },
    {
     "data": {
      "text/plain": [
       "<Figure size 640x480 with 0 Axes>"
      ]
     },
     "metadata": {},
     "output_type": "display_data"
    },
    {
     "data": {
      "text/plain": [
       "<Figure size 640x480 with 0 Axes>"
      ]
     },
     "metadata": {},
     "output_type": "display_data"
    },
    {
     "data": {
      "text/plain": [
       "<Figure size 640x480 with 0 Axes>"
      ]
     },
     "metadata": {},
     "output_type": "display_data"
    },
    {
     "data": {
      "text/plain": [
       "<Figure size 640x480 with 0 Axes>"
      ]
     },
     "metadata": {},
     "output_type": "display_data"
    },
    {
     "data": {
      "text/plain": [
       "<Figure size 640x480 with 0 Axes>"
      ]
     },
     "metadata": {},
     "output_type": "display_data"
    },
    {
     "data": {
      "text/plain": [
       "<Figure size 640x480 with 0 Axes>"
      ]
     },
     "metadata": {},
     "output_type": "display_data"
    },
    {
     "data": {
      "text/plain": [
       "<Figure size 640x480 with 0 Axes>"
      ]
     },
     "metadata": {},
     "output_type": "display_data"
    },
    {
     "data": {
      "text/plain": [
       "<Figure size 640x480 with 0 Axes>"
      ]
     },
     "metadata": {},
     "output_type": "display_data"
    },
    {
     "data": {
      "text/plain": [
       "<Figure size 640x480 with 0 Axes>"
      ]
     },
     "metadata": {},
     "output_type": "display_data"
    },
    {
     "data": {
      "text/plain": [
       "<Figure size 640x480 with 0 Axes>"
      ]
     },
     "metadata": {},
     "output_type": "display_data"
    },
    {
     "data": {
      "image/png": "[encoded data removed]",
      "text/plain": [
       "<Figure size 640x480 with 1 Axes>"
      ]
     },
     "metadata": {},
     "output_type": "display_data"
    }
   ],
   "source": [
    "# generate hexagonal grid with sensor as the center\n",
    "l = -1\n",
    "for a, b in zip(A,B):\n",
    "    l += 1\n",
    "    plt.clf()\n",
    "    fig, ax = plt.subplots(1)\n",
    "    fig.figsize = (6.6, 6.6)\n",
    "    ax.set_aspect('equal')\n",
    "    for ic, c in enumerate(a):\n",
    "\n",
    "        # fix radius here\n",
    "        hexagon = RegularPolygon((a[ic], b[ic]), numVertices=4, edgecolor='none',\n",
    "                                 radius=0.5, alpha=0.5, color=colarray[int(sensor_density[l][ic])], orientation=np.pi/4)\n",
    "        ax.add_patch(hexagon)\n",
    "    plt.xlim([-8, 8])\n",
    "    plt.ylim([-8, 8])\n",
    "    plt.xlabel('u (cm)')\n",
    "    plt.ylabel('v (cm)')\n",
    "    energy_text = plt.text(x=4, y=6, s=\"layer {}\".format(l+1),\n",
    "    fontsize=12,\n",
    "    fontfamily='sans-serif',\n",
    "    horizontalalignment='left', \n",
    "    verticalalignment='bottom')\n",
    "    plt.savefig('event_layer_{}.png'.format(l))"
   ]
  },
  {
   "cell_type": "markdown",
   "id": "objective-january",
   "metadata": {
    "jupyter": {
     "source_hidden": true
    }
   },
   "source": [
    "<img src=\"event_display.gif\" width=\"400\" align=\"center\">"
   ]
  },
  {
   "cell_type": "code",
   "execution_count": 78,
   "id": "divided-combat",
   "metadata": {},
   "outputs": [],
   "source": [
    "rndw = np.zeros(grid.shape[0])\n",
    "for i in range(grid.shape[0]):\n",
    "    rndw[i] = np.random.rand()"
   ]
  },
  {
   "cell_type": "code",
   "execution_count": 140,
   "id": "vocal-plymouth",
   "metadata": {},
   "outputs": [],
   "source": [
    "grid_x = np.array(list(map(lambda x: x[0], grid))).astype('float32')\n",
    "grid_y = np.array(list(map(lambda x: x[1], grid))).astype('float32')"
   ]
  },
  {
   "cell_type": "code",
   "execution_count": 141,
   "id": "inner-report",
   "metadata": {},
   "outputs": [],
   "source": [
    "norm_grid_x = grid_x/d\n",
    "norm_grid_y = grid_y/d"
   ]
  },
  {
   "cell_type": "code",
   "execution_count": 144,
   "id": "quick-portfolio",
   "metadata": {},
   "outputs": [],
   "source": [
    "sqt = np.sqrt(2)\n",
    "sqtr = np.sqrt(3)"
   ]
  },
  {
   "cell_type": "code",
   "execution_count": 206,
   "id": "civilian-omega",
   "metadata": {},
   "outputs": [],
   "source": [
    "#grid_u = np.array(list(map(lambda x: (x[0]/d)/sqtr-(x[1]/d), grid))).astype('float32')\n",
    "#grid_v = np.array(list(map(lambda x: (x[1]/d)+(x[0]/d)/sqtr, grid))).astype('float32')"
   ]
  },
  {
   "cell_type": "code",
   "execution_count": 228,
   "id": "respected-colors",
   "metadata": {},
   "outputs": [],
   "source": [
    "grid_u = np.array(list(map(lambda x: 2*(x[0]/d)/sqtr, grid))).astype('float32')\n",
    "grid_v = np.array(list(map(lambda x: (x[1]/d)-(x[0]/d)/sqtr, grid))).astype('float32')"
   ]
  },
  {
   "cell_type": "code",
   "execution_count": 186,
   "id": "tropical-bryan",
   "metadata": {},
   "outputs": [
    {
     "data": {
      "image/png": "[encoded data removed]",
      "text/plain": [
       "<Figure size 600x600 with 1 Axes>"
      ]
     },
     "metadata": {},
     "output_type": "display_data"
    }
   ],
   "source": [
    "plt.figure(figsize=(6,6))\n",
    "plt.hist2d(norm_grid_x, norm_grid_y, weights=rndw, bins=(26,26), range=((-6.5,6.5),(-6.5,6.5)))\n",
    "plt.xlabel('u', fontsize=14)\n",
    "plt.ylabel('v', fontsize=14)\n",
    "plt.show()"
   ]
  },
  {
   "cell_type": "code",
   "execution_count": 323,
   "id": "impossible-bracelet",
   "metadata": {},
   "outputs": [
    {
     "data": {
      "text/plain": [
       "<Figure size 640x480 with 0 Axes>"
      ]
     },
     "metadata": {},
     "output_type": "display_data"
    },
    {
     "data": {
      "image/png": "[encoded data removed]",
      "text/plain": [
       "<Figure size 640x480 with 1 Axes>"
      ]
     },
     "metadata": {},
     "output_type": "display_data"
    }
   ],
   "source": [
    "sensor_density = rndw/rndw.max()\n",
    "# generate hexagonal grid with sensor as the center\n",
    "plt.clf()\n",
    "fig, ax = plt.subplots(1)\n",
    "fig.figsize = (6.6, 6.6)\n",
    "ax.set_aspect('equal')\n",
    "\n",
    "for ic, c in enumerate(grid):\n",
    "    # fix radius here\n",
    "    hexagon = RegularPolygon((c['0'], c['1']), numVertices=6, edgecolor='none',\n",
    "                             radius=d/2, alpha=sensor_density[ic], orientation=np.pi/6)\n",
    "    ax.add_patch(hexagon)\n",
    "plt.xlim([-8, 8])\n",
    "plt.ylim([-8, 8])\n",
    "plt.xlabel('x (cm)')\n",
    "plt.ylabel('y (cm)')\n",
    "plt.savefig('xy_first_layer.png')"
   ]
  },
  {
   "cell_type": "code",
   "execution_count": 399,
   "id": "computational-queen",
   "metadata": {},
   "outputs": [
    {
     "data": {
      "image/png": "[encoded data removed]",
      "text/plain": [
       "<Figure size 600x600 with 1 Axes>"
      ]
     },
     "metadata": {},
     "output_type": "display_data"
    }
   ],
   "source": [
    "plt.figure(figsize=(6,6))\n",
    "h_ = plt.hist2d(grid_u, grid_v, weights=rndw, bins=(15,15), range=((-7.5,7.5),(-7.5,7.5)), cmap='Blues')\n",
    "plt.xlabel('u', fontsize=14)\n",
    "plt.ylabel('v', fontsize=14)\n",
    "plt.savefig('uv_first_layer.png')"
   ]
  },
  {
   "cell_type": "code",
   "execution_count": 348,
   "id": "precise-active",
   "metadata": {},
   "outputs": [],
   "source": [
    "h_ = np.histogram2d(grid_u, grid_v, weights=rndw)[0]"
   ]
  },
  {
   "cell_type": "code",
   "execution_count": 427,
   "id": "celtic-softball",
   "metadata": {},
   "outputs": [],
   "source": [
    "ptcloud = ak.zip((rechit_u, rechit_v, rechit_z, rechit_energy))"
   ]
  },
  {
   "cell_type": "code",
   "execution_count": 432,
   "id": "essential-church",
   "metadata": {},
   "outputs": [],
   "source": [
    "img = list(map(lambda x: np.array([np.histogram2d(np.array(x[x[\"2\"]==l][\"0\"], dtype='float32'), np.array(x[x[\"2\"]==l][\"1\"], dtype='float32'), bins=(15,15), range=((-7.5,7.5),(-7.5,7.5)), weights=np.array(x[x[\"2\"]==l][\"3\"]))[0] for l in z_pos]), ptcloud))"
   ]
  },
  {
   "cell_type": "code",
   "execution_count": 435,
   "id": "falling-partner",
   "metadata": {},
   "outputs": [
    {
     "data": {
      "text/plain": [
       "(15, 15, 28, 10)"
      ]
     },
     "execution_count": 435,
     "metadata": {},
     "output_type": "execute_result"
    }
   ],
   "source": [
    "np.array(img).T.shape"
   ]
  },
  {
   "cell_type": "code",
   "execution_count": 401,
   "id": "organized-better",
   "metadata": {},
   "outputs": [
    {
     "data": {
      "text/plain": [
       "(15, 15)"
      ]
     },
     "execution_count": 401,
     "metadata": {},
     "output_type": "execute_result"
    }
   ],
   "source": [
    "h_[0].shape"
   ]
  },
  {
   "cell_type": "code",
   "execution_count": null,
   "id": "willing-craft",
   "metadata": {},
   "outputs": [],
   "source": []
  }
 ],
 "metadata": {
  "kernelspec": {
   "display_name": "torch1.9",
   "language": "python",
   "name": "torch1.9"
  },
  "language_info": {
   "codemirror_mode": {
    "name": "ipython",
    "version": 3
   },
   "file_extension": ".py",
   "mimetype": "text/x-python",
   "name": "python",
   "nbconvert_exporter": "python",
   "pygments_lexer": "ipython3",
   "version": "3.8.13"
  }
 },
 "nbformat": 4,
 "nbformat_minor": 5
}
