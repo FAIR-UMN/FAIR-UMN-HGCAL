{
 "cells": [
  {
   "cell_type": "code",
   "execution_count": 1,
   "id": "subtle-acrobat",
   "metadata": {},
   "outputs": [
    {
     "name": "stderr",
     "output_type": "stream",
     "text": [
      "/home/rusack/shared/.conda/env/torch1.9/lib/python3.8/site-packages/tqdm/auto.py:22: TqdmWarning: IProgress not found. Please update jupyter and ipywidgets. See https://ipywidgets.readthedocs.io/en/stable/user_install.html\n",
      "  from .autonotebook import tqdm as notebook_tqdm\n"
     ]
    }
   ],
   "source": [
    "import os,sys\n",
    "from tqdm import tqdm\n",
    "import pickle\n",
    "\n",
    "sys.path.append(os.getcwd().replace('/notebooks','/src'))\n",
    "\n",
    "import numpy as np\n",
    "import awkward as ak\n",
    "\n",
    "import torch\n",
    "from models.DNN import NN\n",
    "from dataset_utils import H5DatasetDNN, DNNDataset, PklDatasetDNN, split_dataset\n",
    "from utils.torch_utils import MARELoss, train\n",
    "\n",
    "from matplotlib import pyplot as plt"
   ]
  },
  {
   "cell_type": "markdown",
   "id": "original-preview",
   "metadata": {},
   "source": [
    "### Define the model parameters:\n",
    "-  **EPOCHS**: Number of epochs to be used for training the model\n",
    "-  **TRAIN_BATCH_SIZE**: Batch size\n",
    "-  **LAYERS**: A list which includes the number of nodes in each layer of the DNN starting with the input layer and ending with the output layer\n",
    "-  **LRATE**: Learning rate\n",
    "-  **TRAINING_FOLDER**: Folder to store the model summary and weights after every epoch"
   ]
  },
  {
   "cell_type": "code",
   "execution_count": 2,
   "id": "floppy-bottom",
   "metadata": {},
   "outputs": [],
   "source": [
    "EPOCHS = 50\n",
    "TRAIN_BATCH_SIZE = 1\n",
    "LAYERS = [28, 40, 1] # shape of DNN\n",
    "LRATE = 1e-3 # learning rate\n",
    "TRAINING_FOLDER=\"../training/test/\""
   ]
  },
  {
   "cell_type": "code",
   "execution_count": 3,
   "id": "defined-planet",
   "metadata": {},
   "outputs": [],
   "source": [
    "# create a directory if it doesn't exist\n",
    "if not os.path.exists(TRAINING_FOLDER):\n",
    "    os.system('mkdir -p {}'.format(TRAINING_FOLDER))"
   ]
  },
  {
   "cell_type": "markdown",
   "id": "junior-plaintiff",
   "metadata": {},
   "source": [
    "### Loading Dataset:\n",
    "The data uploaded on to zenodo () is in the HDF5 format and one can use the custom H5DatasetDNN dataloader and split the dataset into two categories for training and testing. The dataset can be also converted to the pickle format and one can use PklDatasetDNN class instead. One can also write a custom function and add it dataset_utils.py file."
   ]
  },
  {
   "cell_type": "code",
   "execution_count": null,
   "id": "cognitive-leather",
   "metadata": {},
   "outputs": [],
   "source": [
    "file_path = '/data/hgcal_electron_data_test.h5'\n",
    "file_path = '/home/rusack/shared/hdf5/hgcal_electron/hgcal_electron_data_test.h5'\n",
    "#file_path = '/home/rusack/shared/hdf5/hgcal_electron/flat_0001/hgcal_electron_data_0001.h5'\n",
    "dataset = H5DatasetDNN(file_path)\n",
    "train_test_datasets = split_dataset(dataset)\n",
    "\n",
    "X = train_test_datasets['train']\n",
    "Y = train_test_datasets['test']\n",
    "\n",
    "dataloaders = { 'train': torch.utils.data.DataLoader(X, TRAIN_BATCH_SIZE, shuffle=True),\n",
    "                'test': torch.utils.data.DataLoader(Y, len(Y), shuffle=True)}"
   ]
  },
  {
   "cell_type": "markdown",
   "id": "present-heater",
   "metadata": {},
   "source": [
    "Run the training and add losses and learning rates to a list which can then be saved as a pickle file."
   ]
  },
  {
   "cell_type": "code",
   "execution_count": null,
   "id": "ranging-words",
   "metadata": {},
   "outputs": [],
   "source": [
    "nn = NN(LAYERS)\n",
    "#optimizer = torch.optim.Adam(nn.parameters(), lr = LRATE)\n",
    "optimizer = torch.optim.SGD(nn.parameters(), lr = LRATE)\n",
    "loss_func = torch.nn.MSELoss()\n",
    "\n",
    "epochs = []\n",
    "lr_array = []\n",
    "train_loss_array = []\n",
    "valid_loss_array = []\n",
    "\n",
    "pbar = tqdm(range(EPOCHS))\n",
    "for epoch in pbar:\n",
    "    train_loss = 0\n",
    "    test_loss = 0\n",
    "    for xtrain, ytrain in dataloaders['train']:\n",
    "        tmptl, tmpto = train(nn, xtrain, ytrain, optimizer, loss_func)\n",
    "        train_loss += tmptl.item()\n",
    "    train_loss = train_loss/len(xtrain)\n",
    "        \n",
    "    with torch.no_grad():\n",
    "        for xtest, ytest in dataloaders['test']:\n",
    "            xtest = nn(xtest).reshape(-1)\n",
    "            tmpvl = loss_func(xtest, ytest)\n",
    "            test_loss += tmpvl.item()\n",
    "        test_loss = test_loss/len(ytrain)\n",
    "            \n",
    "    epochs.append(epoch)\n",
    "    train_loss_array.append(train_loss)\n",
    "    valid_loss_array.append(test_loss)\n",
    "    lr_array.append(optimizer.param_groups[0]['lr'])\n",
    "\n",
    "    pbar.set_postfix({'training loss': train_loss, 'validation loss': test_loss})\n",
    "    torch.save(nn.state_dict(), f'{TRAINING_FOLDER}/epoch{epoch}')\n",
    "\n",
    "training_summary = {\n",
    "    'epochs': epochs,\n",
    "    'train_loss': train_loss_array,\n",
    "    'valid_loss': valid_loss_array,\n",
    "    'learning_rate': lr_array\n",
    "}\n",
    "\n",
    "with open('{}/summary.pkl'.format(TRAINING_FOLDER),'wb') as f_:\n",
    "    pickle.dump(training_summary, f_)"
   ]
  },
  {
   "cell_type": "code",
   "execution_count": null,
   "id": "ranking-interim",
   "metadata": {},
   "outputs": [],
   "source": [
    "plt.figure(figsize=(8,4))\n",
    "plt.plot(epochs, train_loss_array, color='tab:blue', label='train loss')\n",
    "plt.plot(epochs, valid_loss_array, color='tab:red', label='valid loss')\n",
    "plt.xlabel('epochs', fontsize=14)\n",
    "plt.ylabel('loss', fontsize=14)\n",
    "plt.legend(loc='upper right', fontsize=14)\n",
    "plt.yscale('log')\n",
    "plt.show()"
   ]
  },
  {
   "cell_type": "code",
   "execution_count": null,
   "id": "occasional-overhead",
   "metadata": {},
   "outputs": [],
   "source": [
    "nn = NN([28, 40, 35, 1])\n",
    "nn.load_state_dict(torch.load('../training/test_epochs_30_lr_0p01_bs_1e5/epoch29', map_location=torch.device('cpu')))\n",
    "nn_output = None\n",
    "\n",
    "for e in [20, 30, 50, 80, 100, 120, 150, 200, 250]:\n",
    "    file_path = '/home/rusack/shared/pickles/hgcal_electron/mc_h3_selection/{}/'.format(e)\n",
    "    dataset = PklDatasetDNN(file_path)\n",
    "    dl = torch.utils.data.DataLoader(dataset, len(dataset), shuffle=False)\n",
    "\n",
    "    with torch.no_grad():\n",
    "        for xtest, ytest in dl:\n",
    "            nn_output = nn(xtest.float())\n",
    "\n",
    "    with open(file_path+'/dnn_output.pickle','wb') as f_:\n",
    "        pickle.dump(np.asarray(nn_output), f_)"
   ]
  },
  {
   "cell_type": "code",
   "execution_count": 48,
   "id": "american-structure",
   "metadata": {},
   "outputs": [],
   "source": [
    "from matplotlib import pyplot as plt"
   ]
  },
  {
   "cell_type": "code",
   "execution_count": 16,
   "id": "intense-civilian",
   "metadata": {},
   "outputs": [
    {
     "data": {
      "image/png": "[encoded data removed]",
      "text/plain": [
       "<Figure size 600x600 with 1 Axes>"
      ]
     },
     "metadata": {},
     "output_type": "display_data"
    }
   ],
   "source": [
    "plt.figure(figsize=(6,6))\n",
    "plt.hist(np.asarray(nn_output), bins=40, range=(0,12), histtype='step')\n",
    "plt.show()"
   ]
  },
  {
   "cell_type": "code",
   "execution_count": 7,
   "id": "liable-kazakhstan",
   "metadata": {},
   "outputs": [
    {
     "name": "stdout",
     "output_type": "stream",
     "text": [
      "------- Initializing DNN -------\n",
      "Input layer size:  28\n",
      "Number of hidden layers :  4\n",
      "Hidden layer 1 size: 40\n",
      "Hidden layer 2 size: 35\n",
      "Output layer size:  1\n",
      "-------------------------------\n"
     ]
    }
   ],
   "source": [
    "nn = NN([28, 40, 35, 1])\n",
    "nn.load_state_dict(torch.load('../training/test_epochs_30_lr_0p01_bs_1e5/epoch29', map_location=torch.device('cpu')))\n",
    "nn_output = None\n",
    "\n",
    "file_path = '/home/rusack/shared/pickles/hgcal_electron/flat_0001/'\n",
    "#file_path = '/home/rusack/shared/pickles/hgcal_electron/mc_h3_selection/100'\n",
    "dataset = PklDatasetDNN(file_path)\n",
    "dl = torch.utils.data.DataLoader(dataset, len(dataset), shuffle=False)"
   ]
  },
  {
   "cell_type": "code",
   "execution_count": 8,
   "id": "linear-truck",
   "metadata": {},
   "outputs": [],
   "source": [
    "with torch.no_grad():\n",
    "    for xtest, ytest in dl:\n",
    "        nn_output = nn(xtest.float())\n",
    "\n",
    "with open(file_path+'/dnn_output.pickle','wb') as f_:\n",
    "    pickle.dump(np.asarray(nn_output), f_)"
   ]
  },
  {
   "cell_type": "code",
   "execution_count": 5,
   "id": "hybrid-stuart",
   "metadata": {},
   "outputs": [],
   "source": [
    "with torch.no_grad():\n",
    "    for xtest, ytest in dl:\n",
    "        nn_output_2 = nn(xtest.float())"
   ]
  },
  {
   "cell_type": "code",
   "execution_count": null,
   "id": "framed-classic",
   "metadata": {},
   "outputs": [],
   "source": []
  }
 ],
 "metadata": {
  "kernelspec": {
   "display_name": "torch1.9",
   "language": "python",
   "name": "torch1.9"
  },
  "language_info": {
   "codemirror_mode": {
    "name": "ipython",
    "version": 3
   },
   "file_extension": ".py",
   "mimetype": "text/x-python",
   "name": "python",
   "nbconvert_exporter": "python",
   "pygments_lexer": "ipython3",
   "version": "3.8.13"
  },
  "vscode": {
   "interpreter": {
    "hash": "0ecd8fadeae8fc756c3534389d6113becccf3e630d35dcfbb3c89e54f67d04ed"
   }
  }
 },
 "nbformat": 4,
 "nbformat_minor": 5
}
